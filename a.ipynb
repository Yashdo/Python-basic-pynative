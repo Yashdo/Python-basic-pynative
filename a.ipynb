{
 "cells": [
  {
   "cell_type": "code",
   "execution_count": 2,
   "metadata": {},
   "outputs": [
    {
     "data": {
      "text/plain": [
       "12"
      ]
     },
     "execution_count": 2,
     "metadata": {},
     "output_type": "execute_result"
    }
   ],
   "source": [
    "121//10\n"
   ]
  },
  {
   "cell_type": "code",
   "execution_count": 3,
   "metadata": {},
   "outputs": [
    {
     "data": {
      "text/plain": [
       "1"
      ]
     },
     "execution_count": 3,
     "metadata": {},
     "output_type": "execute_result"
    }
   ],
   "source": [
    "12//10"
   ]
  },
  {
   "cell_type": "code",
   "execution_count": 4,
   "metadata": {},
   "outputs": [
    {
     "name": "stdout",
     "output_type": "stream",
     "text": [
      "                                                42\n"
     ]
    }
   ],
   "source": [
    "a=\"42\"\n",
    "b=str(a)\n",
    "\n",
    "print(b)"
   ]
  },
  {
   "cell_type": "code",
   "execution_count": 64,
   "metadata": {},
   "outputs": [
    {
     "name": "stdout",
     "output_type": "stream",
     "text": [
      "     \n",
      "\n",
      "    0\n",
      "\n",
      "   012\n",
      "\n",
      "  01234\n",
      "\n",
      " 0123456\n",
      "\n",
      "012345678\n",
      "\n"
     ]
    }
   ],
   "source": [
    "n=int(input(\"Enter your number = \"))\n",
    "\n",
    "for i in range(n+1):\n",
    "    \n",
    "    for j in range(n-i):\n",
    "        print(\" \",end='')\n",
    "        \n",
    "    for j in range(2*i-1):\n",
    "        \n",
    "        \n",
    "        print(j,end='')\n",
    "        \n",
    "\n",
    "    print('\\n')"
   ]
  },
  {
   "cell_type": "code",
   "execution_count": 1,
   "metadata": {},
   "outputs": [
    {
     "name": "stdout",
     "output_type": "stream",
     "text": [
      "\n",
      "\t\t\t\t*** PASCAL TRIANGLE ***\n",
      "\n",
      "                                         1\n",
      "                                      1     1\n",
      "                                   1     2     1\n",
      "                                1     3     3     1\n",
      "                             1     4     6     4     1\n"
     ]
    }
   ],
   "source": [
    "row = int(input(\"Enter number of rows: \"))\n",
    "\n",
    "space = 36\n",
    "\n",
    "# empty list containg all 0s\n",
    "a = [0] * 20 \n",
    "\n",
    "\n",
    "print(\"\\n\\t\\t\\t\\t*** PASCAL TRIANGLE ***\\n\")\n",
    "for i in range(row):\n",
    "    \n",
    "    for spi in range(1,space+1):\n",
    "        print(\" \", end=\"\")\n",
    "    \n",
    "    a[i] = 1\n",
    "    \n",
    "    for j in range(i+1):\n",
    "        print('%6d' %(a[j]), end = \"\")\n",
    "    \n",
    "    for j in range(i,0,-1):\n",
    "        a[j] = a[j] + a[j-1]\n",
    "    \n",
    "    space = space - 3\n",
    "    \n",
    "    print()"
   ]
  },
  {
   "cell_type": "code",
   "execution_count": 2,
   "metadata": {},
   "outputs": [
    {
     "name": "stdout",
     "output_type": "stream",
     "text": [
      "\n",
      "\t\t\t\t*** PASCAL TRIANGLE ***\n",
      "\n",
      "************************************     1\n",
      "*********************************     1     1\n",
      "******************************     1     2     1\n",
      "***************************     1     3     3     1\n",
      "************************     1     4     6     4     1\n"
     ]
    }
   ],
   "source": [
    "row = int(input(\"Enter number of rows: \"))\n",
    "\n",
    "space = 36\n",
    "\n",
    "# empty list containg all 0s\n",
    "a = [0] * 20 \n",
    "\n",
    "\n",
    "print(\"\\n\\t\\t\\t\\t*** PASCAL TRIANGLE ***\\n\")\n",
    "for i in range(row):\n",
    "    \n",
    "    for spi in range(1,space+1):\n",
    "        print(\" \", end=\"\")\n",
    "    \n",
    "    a[i] = 1\n",
    "    \n",
    "    for j in range(i+1):\n",
    "        print('%6d' %(a[j]), end = \"\")\n",
    "    \n",
    "    for j in range(i,0,-1):\n",
    "        a[j] = a[j] + a[j-1]\n",
    "    \n",
    "    space = space - 3\n",
    "    \n",
    "    print()"
   ]
  },
  {
   "cell_type": "code",
   "execution_count": 1,
   "metadata": {},
   "outputs": [
    {
     "data": {
      "text/plain": [
       "-1"
      ]
     },
     "execution_count": 1,
     "metadata": {},
     "output_type": "execute_result"
    }
   ],
   "source": [
    "0-1"
   ]
  },
  {
   "cell_type": "code",
   "execution_count": 24,
   "metadata": {},
   "outputs": [],
   "source": [
    "l=[1,2,3,4,54,56,7]\n",
    "i = 5"
   ]
  },
  {
   "cell_type": "code",
   "execution_count": 26,
   "metadata": {},
   "outputs": [
    {
     "data": {
      "text/plain": [
       "56"
      ]
     },
     "execution_count": 26,
     "metadata": {},
     "output_type": "execute_result"
    }
   ],
   "source": [
    "l[i]"
   ]
  },
  {
   "cell_type": "code",
   "execution_count": 7,
   "metadata": {},
   "outputs": [],
   "source": [
    "a = (1, 2, 3)"
   ]
  },
  {
   "cell_type": "code",
   "execution_count": 9,
   "metadata": {},
   "outputs": [
    {
     "data": {
      "text/plain": [
       "[1, 2, 3]"
      ]
     },
     "execution_count": 9,
     "metadata": {},
     "output_type": "execute_result"
    }
   ],
   "source": [
    "list(a)"
   ]
  },
  {
   "cell_type": "code",
   "execution_count": 21,
   "metadata": {},
   "outputs": [],
   "source": [
    "asd = range(5)"
   ]
  },
  {
   "cell_type": "code",
   "execution_count": 22,
   "metadata": {},
   "outputs": [
    {
     "data": {
      "text/plain": [
       "[0, 1, 2, 3, 4]"
      ]
     },
     "execution_count": 22,
     "metadata": {},
     "output_type": "execute_result"
    }
   ],
   "source": [
    "list(asd)"
   ]
  },
  {
   "cell_type": "code",
   "execution_count": null,
   "metadata": {},
   "outputs": [],
   "source": [
    "\n"
   ]
  },
  {
   "cell_type": "code",
   "execution_count": 28,
   "metadata": {},
   "outputs": [
    {
     "name": "stdout",
     "output_type": "stream",
     "text": [
      "50.0\n",
      "<class 'float'>\n",
      "50\n",
      "<class 'int'>\n"
     ]
    }
   ],
   "source": [
    "s=50\n",
    "f = float(s)\n",
    "print(f)\n",
    "print(type(f))\n",
    "\n",
    "y = int(f)\n",
    "print(y)\n",
    "print(type(y))\n"
   ]
  },
  {
   "cell_type": "code",
   "execution_count": 29,
   "metadata": {},
   "outputs": [],
   "source": [
    "arr=[1,2,3,4,5,6]"
   ]
  },
  {
   "cell_type": "code",
   "execution_count": 49,
   "metadata": {},
   "outputs": [
    {
     "ename": "NameError",
     "evalue": "name 'l' is not defined",
     "output_type": "error",
     "traceback": [
      "\u001b[1;31m---------------------------------------------------------------------------\u001b[0m",
      "\u001b[1;31mNameError\u001b[0m                                 Traceback (most recent call last)",
      "Cell \u001b[1;32mIn [49], line 8\u001b[0m\n\u001b[0;32m      1\u001b[0m list1 \u001b[39m=\u001b[39m [\u001b[39m\"\u001b[39m\u001b[39mflower\u001b[39m\u001b[39m\"\u001b[39m,\u001b[39m\"\u001b[39m\u001b[39mflow\u001b[39m\u001b[39m\"\u001b[39m,\u001b[39m\"\u001b[39m\u001b[39mflight\u001b[39m\u001b[39m\"\u001b[39m]\n\u001b[0;32m      2\u001b[0m \u001b[39m# count=0\u001b[39;00m\n\u001b[0;32m      3\u001b[0m \u001b[39m# list1=list1[0]\u001b[39;00m\n\u001b[0;32m      4\u001b[0m \u001b[39m# list2=list1[1]\u001b[39;00m\n\u001b[0;32m      5\u001b[0m \u001b[39m# list3=list1[2]\u001b[39;00m\n\u001b[0;32m      6\u001b[0m \n\u001b[0;32m      7\u001b[0m \u001b[39m# for element in list1:\u001b[39;00m\n\u001b[1;32m----> 8\u001b[0m \u001b[39mprint\u001b[39m(l)\n",
      "\u001b[1;31mNameError\u001b[0m: name 'l' is not defined"
     ]
    }
   ],
   "source": [
    "list1 = [\"flower\",\"flow\",\"flight\"]\n",
    "# count=0\n",
    "# list1=list1[0]\n",
    "# list2=list1[1]\n",
    "# list3=list1[2]\n",
    "\n",
    "# for element in list1:\n",
    "print(i)\n",
    "    \n",
    "    "
   ]
  },
  {
   "cell_type": "code",
   "execution_count": null,
   "metadata": {},
   "outputs": [],
   "source": []
  }
 ],
 "metadata": {
  "kernelspec": {
   "display_name": "Python 3.10.5 64-bit",
   "language": "python",
   "name": "python3"
  },
  "language_info": {
   "codemirror_mode": {
    "name": "ipython",
    "version": 3
   },
   "file_extension": ".py",
   "mimetype": "text/x-python",
   "name": "python",
   "nbconvert_exporter": "python",
   "pygments_lexer": "ipython3",
   "version": "3.10.5"
  },
  "orig_nbformat": 4,
  "vscode": {
   "interpreter": {
    "hash": "c8251b9bc52378f6afdf5d81e6c7884f9d71e1e5d8da0db69c40a14f28e8a63f"
   }
  }
 },
 "nbformat": 4,
 "nbformat_minor": 2
}
