{
 "cells": [
  {
   "cell_type": "code",
   "execution_count": 6,
   "metadata": {},
   "outputs": [
    {
     "name": "stdout",
     "output_type": "stream",
     "text": [
      "     \n",
      "\n",
      "    0\n",
      "\n",
      "   012\n",
      "\n",
      "  01234\n",
      "\n",
      " 0123456\n",
      "\n",
      "012345678\n",
      "\n"
     ]
    }
   ],
   "source": [
    "n=int(input(\"Enter your number = \"))\n",
    "\n",
    "for i in range(n+1):\n",
    "    \n",
    "    for j in range(n-i):\n",
    "        print(\" \",end='')\n",
    "        \n",
    "    for j in range(2*i-1):\n",
    "        \n",
    "        \n",
    "        print(j,end='')\n",
    "        \n",
    "\n",
    "    print('\\n')"
   ]
  },
  {
   "cell_type": "code",
   "execution_count": null,
   "metadata": {},
   "outputs": [],
   "source": [
    "row = int(input(\"Enter number of rows: \"))\n",
    "\n",
    "space = 36\n",
    "\n",
    "# empty list containg all 0s\n",
    "a = [0] * 20 \n",
    "\n",
    "\n",
    "print(\"\\n\\t\\t\\t\\t*** PASCAL TRIANGLE ***\\n\")\n",
    "for i in range(row):\n",
    "    \n",
    "    for spi in range(1,space+1):\n",
    "        print(\" \", end=\"\")\n",
    "    \n",
    "    a[i] = 1\n",
    "    \n",
    "    for j in range(i+1):\n",
    "        print('%6d' %(a[j]), end = \"\")\n",
    "    \n",
    "    for j in range(i,0,-1):\n",
    "        a[j] = a[j] + a[j-1]\n",
    "    \n",
    "    space = space - 3\n",
    "    \n",
    "    print()"
   ]
  },
  {
   "cell_type": "markdown",
   "metadata": {},
   "source": [
    "\n"
   ]
  },
  {
   "cell_type": "code",
   "execution_count": null,
   "metadata": {},
   "outputs": [],
   "source": [
    "arr=[1,2,3,4,5,6]"
   ]
  },
  {
   "cell_type": "code",
   "execution_count": null,
   "metadata": {},
   "outputs": [],
   "source": [
    "list1 = [\"flower\",\"flow\",\"flight\"]\n",
    "result=dict()\n",
    "# count=0\n",
    "# list1=list1[0]\n",
    "# list2=list1[1]\n",
    "# list3=list1[2]\n",
    "\n",
    "for element in list1:\n",
    "    # for j in element:\n",
    "    if j in element:\n",
    "        result[j]+=1\n",
    "    else:\n",
    "        result[j]=1\n",
    "\n",
    "    print(result)\n",
    "    \n",
    "    "
   ]
  },
  {
   "cell_type": "code",
   "execution_count": null,
   "metadata": {},
   "outputs": [],
   "source": [
    "string = \"babad\"\n",
    "\n",
    "for i in s:\n",
    "    if i in  s==l:\n",
    "        print(i)\n",
    "    "
   ]
  },
  {
   "cell_type": "code",
   "execution_count": null,
   "metadata": {},
   "outputs": [],
   "source": [
    "k = 2\n",
    "num = \"143729\"\n",
    "for i in num:\n",
    "    \n",
    "    print(i)"
   ]
  },
  {
   "cell_type": "code",
   "execution_count": null,
   "metadata": {},
   "outputs": [],
   "source": [
    "a= [-2,1,-3,4,-1,2,1,-5,4]\n",
    "n=sorted(a)\n",
    "print(n)\n",
    "p=sum(n)\n",
    "print(p)"
   ]
  },
  {
   "cell_type": "code",
   "execution_count": null,
   "metadata": {},
   "outputs": [],
   "source": [
    "height =  [11111,2,3,4,4,5,66,5,9,0,5,7]\n",
    "\n",
    "max_num=height[0]\n",
    "count = 0\n",
    "for i in range(len(height)):\n",
    "\n",
    "    if height[i] > max_num:\n",
    "        max_num = height[i]   \n",
    "        # print(max_num)\n",
    "    if height[i] > max_num:\n",
    "        max_num_2=height[i]     \n",
    "        # print(max_num_2)\n",
    "start = height.index(max_num)\n",
    "end = height.index(max_num_2)\n",
    "\n",
    "# if end == 1:\n",
    "\n",
    "b=len(height[start: end])\n",
    "\n",
    "h=min(max_num,max_num_2)\n",
    "\n",
    "water_area = b * h\n",
    "print(water_area)\n"
   ]
  },
  {
   "cell_type": "code",
   "execution_count": null,
   "metadata": {},
   "outputs": [],
   "source": [
    "height = [11111,2,3,4,4,5,66,5,9,0,5,7]\n",
    "l=0\n",
    "r = len(height)-1\n",
    "arealist = []\n",
    "\n",
    "while l != r :\n",
    "    \n",
    "    area = (r-l) * min(height[l] , height[r])\n",
    "    arealist.append(area)\n",
    "\n",
    "    if height[l] < height [r]:\n",
    "        l += 1\n",
    "\n",
    "    else:\n",
    "        r += -1\n",
    "        \n",
    "print(max(arealist))"
   ]
  },
  {
   "cell_type": "code",
   "execution_count": 8,
   "metadata": {},
   "outputs": [
    {
     "ename": "TypeError",
     "evalue": "'int' object is not subscriptable",
     "output_type": "error",
     "traceback": [
      "\u001b[1;31m---------------------------------------------------------------------------\u001b[0m",
      "\u001b[1;31mTypeError\u001b[0m                                 Traceback (most recent call last)",
      "Cell \u001b[1;32mIn [8], line 9\u001b[0m\n\u001b[0;32m      6\u001b[0m \u001b[39mfor\u001b[39;00m j \u001b[39min\u001b[39;00m \u001b[39mrange\u001b[39m(\u001b[39mlen\u001b[39m(wordDict)):\n\u001b[0;32m      7\u001b[0m     \u001b[39m# for k in j:\u001b[39;00m\n\u001b[0;32m      8\u001b[0m         \u001b[39mpass\u001b[39;00m\n\u001b[1;32m----> 9\u001b[0m \u001b[39mif\u001b[39;00m i[s]\u001b[39m==\u001b[39mj[wordDict]:\n\u001b[0;32m     10\u001b[0m     \u001b[39mprint\u001b[39m(\u001b[39mTrue\u001b[39;00m)\n\u001b[0;32m     11\u001b[0m \u001b[39melse\u001b[39;00m:\n",
      "\u001b[1;31mTypeError\u001b[0m: 'int' object is not subscriptable"
     ]
    }
   ],
   "source": [
    "s=\"leetcode\"\n",
    "wordDict=[\"lee\",\"code\"]\n",
    "\n",
    "for i in range(len(s)):\n",
    "    pass\n",
    "for j in range(len(wordDict)):\n",
    "    # for k in j:\n",
    "        pass\n",
    "if i[s]==j[wordDict]:\n",
    "    print(True)\n",
    "else:\n",
    "    print(False)\n",
    "\n",
    "\n",
    "# while i==k or i!=k:\n",
    "#   if i == k or i != k:\n",
    "#     if i == False:\n",
    "\n",
    "#          print(False)\n",
    "#     else :\n",
    "#         print(True)\n",
    "# i+=i\n",
    "\n",
    "\n"
   ]
  },
  {
   "cell_type": "code",
   "execution_count": null,
   "metadata": {},
   "outputs": [],
   "source": []
  },
  {
   "cell_type": "code",
   "execution_count": null,
   "metadata": {},
   "outputs": [],
   "source": []
  }
 ],
 "metadata": {
  "kernelspec": {
   "display_name": "Python 3",
   "language": "python",
   "name": "python3"
  },
  "language_info": {
   "codemirror_mode": {
    "name": "ipython",
    "version": 3
   },
   "file_extension": ".py",
   "mimetype": "text/x-python",
   "name": "python",
   "nbconvert_exporter": "python",
   "pygments_lexer": "ipython3",
   "version": "3.10.5"
  },
  "orig_nbformat": 4,
  "vscode": {
   "interpreter": {
    "hash": "c8251b9bc52378f6afdf5d81e6c7884f9d71e1e5d8da0db69c40a14f28e8a63f"
   }
  }
 },
 "nbformat": 4,
 "nbformat_minor": 2
}
